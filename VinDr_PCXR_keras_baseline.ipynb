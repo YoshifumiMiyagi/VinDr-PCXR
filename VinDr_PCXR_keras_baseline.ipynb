{
  "cells": [
    {
      "cell_type": "markdown",
      "metadata": {
        "id": "view-in-github",
        "colab_type": "text"
      },
      "source": [
        "<a href=\"https://colab.research.google.com/github/YoshifumiMiyagi/VinDr-PCXR/blob/main/VinDr_PCXR_keras_baseline.ipynb\" target=\"_parent\"><img src=\"https://colab.research.google.com/assets/colab-badge.svg\" alt=\"Open In Colab\"/></a>"
      ]
    },
    {
      "cell_type": "code",
      "execution_count": 1,
      "metadata": {
        "colab": {
          "base_uri": "https://localhost:8080/"
        },
        "id": "EjwJuthq8psa",
        "outputId": "c3d7a04e-4c16-4fe5-e7f7-44bd29e16b70"
      },
      "outputs": [
        {
          "output_type": "stream",
          "name": "stdout",
          "text": [
            "Collecting pydicom\n",
            "  Downloading pydicom-2.4.4-py3-none-any.whl.metadata (7.8 kB)\n",
            "Downloading pydicom-2.4.4-py3-none-any.whl (1.8 MB)\n",
            "\u001b[2K   \u001b[90m━━━━━━━━━━━━━━━━━━━━━━━━━━━━━━━━━━━━━━━━\u001b[0m \u001b[32m1.8/1.8 MB\u001b[0m \u001b[31m19.2 MB/s\u001b[0m eta \u001b[36m0:00:00\u001b[0m\n",
            "\u001b[?25hInstalling collected packages: pydicom\n",
            "Successfully installed pydicom-2.4.4\n"
          ]
        }
      ],
      "source": [
        "!pip install pydicom"
      ]
    },
    {
      "cell_type": "code",
      "execution_count": 2,
      "metadata": {
        "colab": {
          "base_uri": "https://localhost:8080/"
        },
        "id": "Ns-6HluZ9v54",
        "outputId": "083b65f3-672e-44f8-e44e-ecfd297efc0b"
      },
      "outputs": [
        {
          "output_type": "stream",
          "name": "stdout",
          "text": [
            "⏬ Downloading https://github.com/conda-forge/miniforge/releases/download/23.11.0-0/Mambaforge-23.11.0-0-Linux-x86_64.sh...\n",
            "📦 Installing...\n",
            "📌 Adjusting configuration...\n",
            "🩹 Patching environment...\n",
            "⏲ Done in 0:00:09\n",
            "🔁 Restarting kernel...\n"
          ]
        }
      ],
      "source": [
        "!pip install -q condacolab\n",
        "import condacolab\n",
        "condacolab.install()"
      ]
    },
    {
      "cell_type": "code",
      "execution_count": 3,
      "metadata": {
        "colab": {
          "base_uri": "https://localhost:8080/"
        },
        "id": "BmP0y26I9y3Y",
        "outputId": "8c20a72b-55cb-4ab8-a924-b9c7785200a3"
      },
      "outputs": [
        {
          "output_type": "stream",
          "name": "stdout",
          "text": [
            "Channels:\n",
            " - conda-forge\n",
            "Platform: linux-64\n",
            "Collecting package metadata (repodata.json): - \b\b\\ \b\b| \b\b/ \b\b- \b\b\\ \b\b| \b\b/ \b\b- \b\b\\ \b\b| \b\b/ \b\b- \b\b\\ \b\b| \b\b/ \b\b- \b\b\\ \b\b| \b\b/ \b\b- \b\b\\ \b\b| \b\b/ \b\b- \b\b\\ \b\b| \b\b/ \b\b- \b\b\\ \b\b| \b\b/ \b\b- \b\b\\ \b\b| \b\b/ \b\b- \b\b\\ \b\b| \b\b/ \b\b- \b\b\\ \b\b| \b\b/ \b\b- \b\b\\ \b\b| \b\b/ \b\b- \b\b\\ \b\b| \b\b/ \b\b- \b\b\\ \b\b| \b\b/ \b\b- \b\b\\ \b\b| \b\b/ \b\b- \b\b\\ \b\b| \b\b/ \b\b- \b\b\\ \b\b| \b\b/ \b\b- \b\b\\ \b\b| \b\b/ \b\b- \b\b\\ \b\b| \b\b/ \b\b- \b\b\\ \b\b| \b\b/ \b\b- \b\b\\ \b\b| \b\b/ \b\b- \b\b\\ \b\b| \b\b/ \b\b- \b\b\\ \b\b| \b\b/ \b\b- \b\b\\ \b\b| \b\b/ \b\b- \b\b\\ \b\b| \b\b/ \b\b- \b\b\\ \b\b| \b\b/ \b\b- \b\b\\ \b\b| \b\b/ \b\b- \b\b\\ \b\b| \b\b/ \b\b- \b\b\\ \b\b| \b\b/ \b\b- \b\b\\ \b\b| \b\b/ \b\b- \b\b\\ \b\b| \b\b/ \b\b- \b\b\\ \b\b| \b\b/ \b\b- \b\b\\ \b\b| \b\b/ \b\b- \b\b\\ \b\b| \b\b/ \b\b- \b\b\\ \b\b| \b\b/ \b\b- \b\b\\ \b\b| \b\b/ \b\b- \b\b\\ \b\b| \b\b/ \b\b- \b\b\\ \b\b| \b\b/ \b\b- \b\b\\ \b\b| \b\b/ \b\b- \b\b\\ \b\b| \b\b/ \b\b- \b\b\\ \b\b| \b\b/ \b\b- \b\b\\ \b\b| \b\b/ \b\b- \b\b\\ \b\b| \b\b/ \b\b- \b\b\\ \b\b| \b\b/ \b\b- \b\b\\ \b\b| \b\b/ \b\b- \b\b\\ \b\b| \b\b/ \b\b- \b\b\\ \b\b| \b\bdone\n",
            "Solving environment: - \b\b\\ \b\b| \b\bdone\n",
            "\n",
            "\n",
            "==> WARNING: A newer version of conda exists. <==\n",
            "    current version: 23.11.0\n",
            "    latest version: 24.7.1\n",
            "\n",
            "Please update conda by running\n",
            "\n",
            "    $ conda update -n base -c conda-forge conda\n",
            "\n",
            "\n",
            "\n",
            "## Package Plan ##\n",
            "\n",
            "  environment location: /usr/local\n",
            "\n",
            "  added / updated specs:\n",
            "    - gdcm\n",
            "\n",
            "\n",
            "The following packages will be downloaded:\n",
            "\n",
            "    package                    |            build\n",
            "    ---------------------------|-----------------\n",
            "    ca-certificates-2024.7.4   |       hbcca054_0         151 KB  conda-forge\n",
            "    certifi-2024.7.4           |     pyhd8ed1ab_0         156 KB  conda-forge\n",
            "    gdcm-2.8.9                 | py310h59700c5_10         2.7 MB  conda-forge\n",
            "    json-c-0.17                |       h1220068_1          82 KB  conda-forge\n",
            "    lerc-4.0.0                 |       h27087fc_0         275 KB  conda-forge\n",
            "    libdeflate-1.20            |       hd590300_0          70 KB  conda-forge\n",
            "    libexpat-2.6.2             |       h59595ed_0          72 KB  conda-forge\n",
            "    libjpeg-turbo-3.0.0        |       hd590300_1         604 KB  conda-forge\n",
            "    libpng-1.6.43              |       h2797004_0         281 KB  conda-forge\n",
            "    libtiff-4.6.0              |       h1dd3fc0_3         276 KB  conda-forge\n",
            "    libwebp-base-1.4.0         |       hd590300_0         429 KB  conda-forge\n",
            "    openjpeg-2.5.2             |       h488ebb8_0         334 KB  conda-forge\n",
            "    openssl-3.3.1              |       h4bc722e_2         2.8 MB  conda-forge\n",
            "    ------------------------------------------------------------\n",
            "                                           Total:         8.1 MB\n",
            "\n",
            "The following NEW packages will be INSTALLED:\n",
            "\n",
            "  gdcm               conda-forge/linux-64::gdcm-2.8.9-py310h59700c5_10 \n",
            "  json-c             conda-forge/linux-64::json-c-0.17-h1220068_1 \n",
            "  lerc               conda-forge/linux-64::lerc-4.0.0-h27087fc_0 \n",
            "  libdeflate         conda-forge/linux-64::libdeflate-1.20-hd590300_0 \n",
            "  libexpat           conda-forge/linux-64::libexpat-2.6.2-h59595ed_0 \n",
            "  libjpeg-turbo      conda-forge/linux-64::libjpeg-turbo-3.0.0-hd590300_1 \n",
            "  libpng             conda-forge/linux-64::libpng-1.6.43-h2797004_0 \n",
            "  libtiff            conda-forge/linux-64::libtiff-4.6.0-h1dd3fc0_3 \n",
            "  libwebp-base       conda-forge/linux-64::libwebp-base-1.4.0-hd590300_0 \n",
            "  openjpeg           conda-forge/linux-64::openjpeg-2.5.2-h488ebb8_0 \n",
            "\n",
            "The following packages will be UPDATED:\n",
            "\n",
            "  ca-certificates                     2023.11.17-hbcca054_0 --> 2024.7.4-hbcca054_0 \n",
            "  certifi                           2023.11.17-pyhd8ed1ab_0 --> 2024.7.4-pyhd8ed1ab_0 \n",
            "  openssl                                  3.2.0-hd590300_1 --> 3.3.1-h4bc722e_2 \n",
            "\n",
            "\n",
            "\n",
            "Downloading and Extracting Packages:\n",
            "openssl-3.3.1        | 2.8 MB    | :   0% 0/1 [00:00<?, ?it/s]\n",
            "gdcm-2.8.9           | 2.7 MB    | :   0% 0/1 [00:00<?, ?it/s]\u001b[A\n",
            "\n",
            "libjpeg-turbo-3.0.0  | 604 KB    | :   0% 0/1 [00:00<?, ?it/s]\u001b[A\u001b[A\n",
            "\n",
            "\n",
            "libwebp-base-1.4.0   | 429 KB    | :   0% 0/1 [00:00<?, ?it/s]\u001b[A\u001b[A\u001b[A\n",
            "\n",
            "\n",
            "\n",
            "openjpeg-2.5.2       | 334 KB    | :   0% 0/1 [00:00<?, ?it/s]\u001b[A\u001b[A\u001b[A\u001b[A\n",
            "\n",
            "\n",
            "\n",
            "\n",
            "libpng-1.6.43        | 281 KB    | :   0% 0/1 [00:00<?, ?it/s]\u001b[A\u001b[A\u001b[A\u001b[A\u001b[A\n",
            "\n",
            "\n",
            "\n",
            "\n",
            "\n",
            "libtiff-4.6.0        | 276 KB    | :   0% 0/1 [00:00<?, ?it/s]\u001b[A\u001b[A\u001b[A\u001b[A\u001b[A\u001b[A\n",
            "\n",
            "\n",
            "\n",
            "\n",
            "\n",
            "\n",
            "lerc-4.0.0           | 275 KB    | :   0% 0/1 [00:00<?, ?it/s]\u001b[A\u001b[A\u001b[A\u001b[A\u001b[A\u001b[A\u001b[A\n",
            "\n",
            "\n",
            "\n",
            "\n",
            "\n",
            "\n",
            "\n",
            "certifi-2024.7.4     | 156 KB    | :   0% 0/1 [00:00<?, ?it/s]\u001b[A\u001b[A\u001b[A\u001b[A\u001b[A\u001b[A\u001b[A\u001b[A\n",
            "\n",
            "\n",
            "\n",
            "\n",
            "\n",
            "\n",
            "\n",
            "\n",
            "ca-certificates-2024 | 151 KB    | :   0% 0/1 [00:00<?, ?it/s]\u001b[A\u001b[A\u001b[A\u001b[A\u001b[A\u001b[A\u001b[A\u001b[A\u001b[A\n",
            "\n",
            "\n",
            "\n",
            "\n",
            "\n",
            "\n",
            "\n",
            "\n",
            "\n",
            "json-c-0.17          | 82 KB     | :   0% 0/1 [00:00<?, ?it/s]\u001b[A\u001b[A\u001b[A\u001b[A\u001b[A\u001b[A\u001b[A\u001b[A\u001b[A\u001b[A\n",
            "\n",
            "\n",
            "\n",
            "\n",
            "\n",
            "\n",
            "\n",
            "\n",
            "\n",
            "\n",
            "libexpat-2.6.2       | 72 KB     | :   0% 0/1 [00:00<?, ?it/s]\u001b[A\u001b[A\u001b[A\u001b[A\u001b[A\u001b[A\u001b[A\u001b[A\u001b[A\u001b[A\u001b[A\n",
            "\n",
            "\n",
            "\n",
            "\n",
            "\n",
            "\n",
            "\n",
            "\n",
            "\n",
            "\n",
            "\n",
            "libdeflate-1.20      | 70 KB     | :   0% 0/1 [00:00<?, ?it/s]\u001b[A\u001b[A\u001b[A\u001b[A\u001b[A\u001b[A\u001b[A\u001b[A\u001b[A\u001b[A\u001b[A\u001b[A\n",
            "\n",
            "libjpeg-turbo-3.0.0  | 604 KB    | :   3% 0.026486683102291558/1 [00:00<00:04,  4.54s/it]\u001b[A\u001b[A\n",
            "openssl-3.3.1        | 2.8 MB    | :   1% 0.005658996419261726/1 [00:00<00:21, 22.08s/it]\n",
            "\n",
            "\n",
            "libwebp-base-1.4.0   | 429 KB    | :   4% 0.03732518060020093/1 [00:00<00:03,  3.32s/it]\u001b[A\u001b[A\u001b[A\n",
            "\n",
            "\n",
            "\n",
            "openjpeg-2.5.2       | 334 KB    | :   5% 0.047963652544556076/1 [00:00<00:02,  2.62s/it]\u001b[A\u001b[A\u001b[A\u001b[A\n",
            "\n",
            "\n",
            "\n",
            "\n",
            "libpng-1.6.43        | 281 KB    | :   6% 0.05684526804084366/1 [00:00<00:03,  3.68s/it]\u001b[A\u001b[A\u001b[A\u001b[A\u001b[A\n",
            "openssl-3.3.1        | 2.8 MB    | :  79% 0.78660050227738/1 [00:00<00:00,  4.18it/s]    \n",
            "\n",
            "\n",
            "\n",
            "\n",
            "\n",
            "libtiff-4.6.0        | 276 KB    | :   6% 0.057957889970568256/1 [00:00<00:03,  3.88s/it]\u001b[A\u001b[A\u001b[A\u001b[A\u001b[A\u001b[A\n",
            "\n",
            "\n",
            "\n",
            "\n",
            "\n",
            "\n",
            "lerc-4.0.0           | 275 KB    | :   6% 0.05814093783490302/1 [00:00<00:03,  3.91s/it]\u001b[A\u001b[A\u001b[A\u001b[A\u001b[A\u001b[A\u001b[A\n",
            "\n",
            "\n",
            "\n",
            "openjpeg-2.5.2       | 334 KB    | : 100% 1.0/1 [00:00<00:00,  4.06it/s]                 \u001b[A\u001b[A\u001b[A\u001b[A\n",
            "\n",
            "\n",
            "\n",
            "openjpeg-2.5.2       | 334 KB    | : 100% 1.0/1 [00:00<00:00,  4.06it/s]\u001b[A\u001b[A\u001b[A\u001b[A\n",
            "\n",
            "\n",
            "\n",
            "\n",
            "\n",
            "\n",
            "\n",
            "certifi-2024.7.4     | 156 KB    | :  10% 0.10284480377633264/1 [00:00<00:02,  2.90s/it]\u001b[A\u001b[A\u001b[A\u001b[A\u001b[A\u001b[A\u001b[A\u001b[A\n",
            "\n",
            "\n",
            "\n",
            "\n",
            "\n",
            "\n",
            "\n",
            "\n",
            "ca-certificates-2024 | 151 KB    | :  11% 0.10580356854565297/1 [00:00<00:02,  2.83s/it]\u001b[A\u001b[A\u001b[A\u001b[A\u001b[A\u001b[A\u001b[A\u001b[A\u001b[A\n",
            "\n",
            "\n",
            "\n",
            "\n",
            "\n",
            "\n",
            "\n",
            "\n",
            "\n",
            "json-c-0.17          | 82 KB     | :  20% 0.19578881957888195/1 [00:00<00:01,  1.53s/it]\u001b[A\u001b[A\u001b[A\u001b[A\u001b[A\u001b[A\u001b[A\u001b[A\u001b[A\u001b[A\n",
            "\n",
            "\n",
            "libwebp-base-1.4.0   | 429 KB    | : 100% 1.0/1 [00:00<00:00,  3.52it/s]                \u001b[A\u001b[A\u001b[A\n",
            "\n",
            "\n",
            "libwebp-base-1.4.0   | 429 KB    | : 100% 1.0/1 [00:00<00:00,  3.52it/s]\u001b[A\u001b[A\u001b[A\n",
            "\n",
            "\n",
            "\n",
            "\n",
            "libpng-1.6.43        | 281 KB    | : 100% 1.0/1 [00:00<00:00,  3.56it/s]                \u001b[A\u001b[A\u001b[A\u001b[A\u001b[A\n",
            "\n",
            "\n",
            "\n",
            "\n",
            "libpng-1.6.43        | 281 KB    | : 100% 1.0/1 [00:00<00:00,  3.56it/s]\u001b[A\u001b[A\u001b[A\u001b[A\u001b[A\n",
            "\n",
            "\n",
            "\n",
            "\n",
            "\n",
            "\n",
            "\n",
            "\n",
            "\n",
            "\n",
            "libexpat-2.6.2       | 72 KB     | :  22% 0.22221619422216193/1 [00:00<00:01,  1.58s/it]\u001b[A\u001b[A\u001b[A\u001b[A\u001b[A\u001b[A\u001b[A\u001b[A\u001b[A\u001b[A\u001b[A\n",
            "\n",
            "libjpeg-turbo-3.0.0  | 604 KB    | : 100% 1.0/1 [00:00<00:00,  3.03it/s]                 \u001b[A\u001b[A\n",
            "\n",
            "\n",
            "\n",
            "\n",
            "\n",
            "\n",
            "\n",
            "\n",
            "\n",
            "\n",
            "\n",
            "libdeflate-1.20      | 70 KB     | :  23% 0.22914685314685315/1 [00:00<00:01,  1.54s/it]\u001b[A\u001b[A\u001b[A\u001b[A\u001b[A\u001b[A\u001b[A\u001b[A\u001b[A\u001b[A\u001b[A\u001b[A\n",
            "\n",
            "libjpeg-turbo-3.0.0  | 604 KB    | : 100% 1.0/1 [00:00<00:00,  3.03it/s]\u001b[A\u001b[A\n",
            "\n",
            "\n",
            "\n",
            "\n",
            "\n",
            "libtiff-4.6.0        | 276 KB    | : 100% 1.0/1 [00:00<00:00,  3.23it/s]                 \u001b[A\u001b[A\u001b[A\u001b[A\u001b[A\u001b[A\n",
            "\n",
            "\n",
            "\n",
            "\n",
            "\n",
            "libtiff-4.6.0        | 276 KB    | : 100% 1.0/1 [00:00<00:00,  3.23it/s]\u001b[A\u001b[A\u001b[A\u001b[A\u001b[A\u001b[A\n",
            "\n",
            "\n",
            "\n",
            "\n",
            "\n",
            "\n",
            "\n",
            "\n",
            "ca-certificates-2024 | 151 KB    | : 100% 1.0/1 [00:00<00:00,  2.83s/it]                \u001b[A\u001b[A\u001b[A\u001b[A\u001b[A\u001b[A\u001b[A\u001b[A\u001b[A\n",
            "\n",
            "\n",
            "\n",
            "\n",
            "\n",
            "\n",
            "\n",
            "\n",
            "\n",
            "json-c-0.17          | 82 KB     | : 100% 1.0/1 [00:00<00:00,  1.53s/it]                \u001b[A\u001b[A\u001b[A\u001b[A\u001b[A\u001b[A\u001b[A\u001b[A\u001b[A\u001b[A\n",
            "\n",
            "\n",
            "\n",
            "\n",
            "\n",
            "\n",
            "lerc-4.0.0           | 275 KB    | : 100% 1.0/1 [00:00<00:00,  2.94it/s]                \u001b[A\u001b[A\u001b[A\u001b[A\u001b[A\u001b[A\u001b[A\n",
            "\n",
            "\n",
            "\n",
            "\n",
            "\n",
            "\n",
            "lerc-4.0.0           | 275 KB    | : 100% 1.0/1 [00:00<00:00,  2.94it/s]\u001b[A\u001b[A\u001b[A\u001b[A\u001b[A\u001b[A\u001b[A\n",
            "\n",
            "\n",
            "\n",
            "\n",
            "\n",
            "\n",
            "\n",
            "certifi-2024.7.4     | 156 KB    | : 100% 1.0/1 [00:00<00:00,  2.88it/s]                \u001b[A\u001b[A\u001b[A\u001b[A\u001b[A\u001b[A\u001b[A\u001b[A\n",
            "\n",
            "\n",
            "\n",
            "\n",
            "\n",
            "\n",
            "\n",
            "certifi-2024.7.4     | 156 KB    | : 100% 1.0/1 [00:00<00:00,  2.88it/s]\u001b[A\u001b[A\u001b[A\u001b[A\u001b[A\u001b[A\u001b[A\u001b[A\n",
            "\n",
            "\n",
            "\n",
            "\n",
            "\n",
            "\n",
            "\n",
            "\n",
            "\n",
            "\n",
            "libexpat-2.6.2       | 72 KB     | : 100% 1.0/1 [00:00<00:00,  2.66it/s]                \u001b[A\u001b[A\u001b[A\u001b[A\u001b[A\u001b[A\u001b[A\u001b[A\u001b[A\u001b[A\u001b[A\n",
            "\n",
            "\n",
            "\n",
            "\n",
            "\n",
            "\n",
            "\n",
            "\n",
            "\n",
            "\n",
            "libexpat-2.6.2       | 72 KB     | : 100% 1.0/1 [00:00<00:00,  2.66it/s]\u001b[A\u001b[A\u001b[A\u001b[A\u001b[A\u001b[A\u001b[A\u001b[A\u001b[A\u001b[A\u001b[A\n",
            "\n",
            "\n",
            "\n",
            "\n",
            "\n",
            "\n",
            "\n",
            "\n",
            "\n",
            "\n",
            "\n",
            "libdeflate-1.20      | 70 KB     | : 100% 1.0/1 [00:00<00:00,  2.48it/s]                \u001b[A\u001b[A\u001b[A\u001b[A\u001b[A\u001b[A\u001b[A\u001b[A\u001b[A\u001b[A\u001b[A\u001b[A\n",
            "\n",
            "\n",
            "\n",
            "\n",
            "\n",
            "\n",
            "\n",
            "\n",
            "\n",
            "\n",
            "\n",
            "openssl-3.3.1        | 2.8 MB    | : 100% 1.0/1 [00:00<00:00,  4.18it/s]             \n",
            "                                                                        \n",
            "                                                                        \u001b[A\n",
            "\n",
            "                                                                        \u001b[A\u001b[A\n",
            "\n",
            "\n",
            "                                                                        \u001b[A\u001b[A\u001b[A\n",
            "\n",
            "\n",
            "\n",
            "                                                                        \u001b[A\u001b[A\u001b[A\u001b[A\n",
            "\n",
            "\n",
            "\n",
            "\n",
            "                                                                        \u001b[A\u001b[A\u001b[A\u001b[A\u001b[A\n",
            "\n",
            "\n",
            "\n",
            "\n",
            "\n",
            "                                                                        \u001b[A\u001b[A\u001b[A\u001b[A\u001b[A\u001b[A\n",
            "\n",
            "\n",
            "\n",
            "\n",
            "\n",
            "\n",
            "                                                                        \u001b[A\u001b[A\u001b[A\u001b[A\u001b[A\u001b[A\u001b[A\n",
            "\n",
            "\n",
            "\n",
            "\n",
            "\n",
            "\n",
            "\n",
            "                                                                        \u001b[A\u001b[A\u001b[A\u001b[A\u001b[A\u001b[A\u001b[A\u001b[A\n",
            "\n",
            "\n",
            "\n",
            "\n",
            "\n",
            "\n",
            "\n",
            "\n",
            "                                                                        \u001b[A\u001b[A\u001b[A\u001b[A\u001b[A\u001b[A\u001b[A\u001b[A\u001b[A\n",
            "\n",
            "\n",
            "\n",
            "\n",
            "\n",
            "\n",
            "\n",
            "\n",
            "\n",
            "                                                                        \u001b[A\u001b[A\u001b[A\u001b[A\u001b[A\u001b[A\u001b[A\u001b[A\u001b[A\u001b[A\n",
            "\n",
            "\n",
            "\n",
            "\n",
            "\n",
            "\n",
            "\n",
            "\n",
            "\n",
            "\n",
            "                                                                        \u001b[A\u001b[A\u001b[A\u001b[A\u001b[A\u001b[A\u001b[A\u001b[A\u001b[A\u001b[A\u001b[A\n",
            "\n",
            "\n",
            "\n",
            "\n",
            "\n",
            "\n",
            "\n",
            "\n",
            "\n",
            "\n",
            "\n",
            "                                                                        \u001b[A\u001b[A\u001b[A\u001b[A\u001b[A\u001b[A\u001b[A\u001b[A\u001b[A\u001b[A\u001b[A\u001b[A\n",
            "Preparing transaction: - \b\bdone\n",
            "Verifying transaction: | \b\b/ \b\bdone\n",
            "Executing transaction: \\ \b\b| \b\b/ \b\b- \b\b\\ \b\bdone\n"
          ]
        }
      ],
      "source": [
        "!conda install -c conda-forge gdcm -y"
      ]
    },
    {
      "cell_type": "code",
      "execution_count": 3,
      "metadata": {
        "id": "pN9kzC0c8d1S"
      },
      "outputs": [],
      "source": [
        "import pydicom\n",
        "import numpy as np\n",
        "import pandas as pd\n",
        "import matplotlib.pyplot as plt\n",
        "import seaborn as sns\n",
        "import sklearn.metrics as metrics\n",
        "from sklearn.model_selection import cross_val_score\n",
        "from sklearn.model_selection import train_test_split\n",
        "import os\n",
        "import cv2\n",
        "import tensorflow as tf\n",
        "from keras import backend as K\n",
        "from keras.preprocessing.image import array_to_img, img_to_array, load_img\n",
        "from keras.models import load_model\n",
        "from tensorflow.keras.applications.vgg16 import preprocess_input\n",
        "from tensorflow.keras.utils import to_categorical\n",
        "from tensorflow.keras.callbacks import ModelCheckpoint, EarlyStopping\n",
        "from tensorflow.keras.models import Sequential\n",
        "from tensorflow.keras.layers import Dense, Dropout, BatchNormalization, Conv2D, MaxPool2D, Flatten,Input\n",
        "from sklearn.metrics import classification_report, confusion_matrix, accuracy_score\n",
        "from tensorflow.keras.utils import to_categorical"
      ]
    },
    {
      "cell_type": "code",
      "execution_count": 4,
      "metadata": {
        "id": "02dhQmbE8l0t",
        "colab": {
          "base_uri": "https://localhost:8080/",
          "height": 261
        },
        "outputId": "51ae2b82-274e-46f3-9912-34d65ba39abe"
      },
      "outputs": [
        {
          "output_type": "execute_result",
          "data": {
            "text/plain": [
              "                           image_id rad_ID  No finding  Bronchitis  \\\n",
              "0  6cb53aff85c71b98ad13d67a131708c6     R3         0.0         0.0   \n",
              "1  40414c05687cdb156823c156967b13f0     R3         0.0         0.0   \n",
              "2  0e4a464dfbf8abc6333c82f1b77b6455     R3         0.0         0.0   \n",
              "3  f4d3fab0b71381e6b237dc36301e85a0     R3         0.0         0.0   \n",
              "4  b58c9b1c89978a0b1f8533b7a2ca1088     R3         0.0         0.0   \n",
              "\n",
              "   Brocho-pneumonia  Other disease  Bronchiolitis  Situs inversus  Pneumonia  \\\n",
              "0               0.0            0.0            0.0             0.0        1.0   \n",
              "1               0.0            0.0            1.0             0.0        0.0   \n",
              "2               0.0            0.0            1.0             0.0        0.0   \n",
              "3               0.0            0.0            1.0             0.0        0.0   \n",
              "4               0.0            1.0            0.0             0.0        0.0   \n",
              "\n",
              "   Pleuro-pneumonia  Diagphramatic hernia  Tuberculosis  Congenital emphysema  \\\n",
              "0               0.0                   0.0           0.0                   0.0   \n",
              "1               0.0                   0.0           0.0                   0.0   \n",
              "2               0.0                   0.0           0.0                   0.0   \n",
              "3               0.0                   0.0           0.0                   0.0   \n",
              "4               0.0                   0.0           0.0                   0.0   \n",
              "\n",
              "   CPAM  Hyaline membrane disease  Mediastinal tumor  Lung tumor  \n",
              "0   0.0                       0.0                0.0         0.0  \n",
              "1   0.0                       0.0                0.0         0.0  \n",
              "2   0.0                       0.0                0.0         0.0  \n",
              "3   0.0                       0.0                0.0         0.0  \n",
              "4   0.0                       0.0                0.0         0.0  "
            ],
            "text/html": [
              "\n",
              "  <div id=\"df-1ce825ac-2825-4e97-8989-65371c9af6f1\" class=\"colab-df-container\">\n",
              "    <div>\n",
              "<style scoped>\n",
              "    .dataframe tbody tr th:only-of-type {\n",
              "        vertical-align: middle;\n",
              "    }\n",
              "\n",
              "    .dataframe tbody tr th {\n",
              "        vertical-align: top;\n",
              "    }\n",
              "\n",
              "    .dataframe thead th {\n",
              "        text-align: right;\n",
              "    }\n",
              "</style>\n",
              "<table border=\"1\" class=\"dataframe\">\n",
              "  <thead>\n",
              "    <tr style=\"text-align: right;\">\n",
              "      <th></th>\n",
              "      <th>image_id</th>\n",
              "      <th>rad_ID</th>\n",
              "      <th>No finding</th>\n",
              "      <th>Bronchitis</th>\n",
              "      <th>Brocho-pneumonia</th>\n",
              "      <th>Other disease</th>\n",
              "      <th>Bronchiolitis</th>\n",
              "      <th>Situs inversus</th>\n",
              "      <th>Pneumonia</th>\n",
              "      <th>Pleuro-pneumonia</th>\n",
              "      <th>Diagphramatic hernia</th>\n",
              "      <th>Tuberculosis</th>\n",
              "      <th>Congenital emphysema</th>\n",
              "      <th>CPAM</th>\n",
              "      <th>Hyaline membrane disease</th>\n",
              "      <th>Mediastinal tumor</th>\n",
              "      <th>Lung tumor</th>\n",
              "    </tr>\n",
              "  </thead>\n",
              "  <tbody>\n",
              "    <tr>\n",
              "      <th>0</th>\n",
              "      <td>6cb53aff85c71b98ad13d67a131708c6</td>\n",
              "      <td>R3</td>\n",
              "      <td>0.0</td>\n",
              "      <td>0.0</td>\n",
              "      <td>0.0</td>\n",
              "      <td>0.0</td>\n",
              "      <td>0.0</td>\n",
              "      <td>0.0</td>\n",
              "      <td>1.0</td>\n",
              "      <td>0.0</td>\n",
              "      <td>0.0</td>\n",
              "      <td>0.0</td>\n",
              "      <td>0.0</td>\n",
              "      <td>0.0</td>\n",
              "      <td>0.0</td>\n",
              "      <td>0.0</td>\n",
              "      <td>0.0</td>\n",
              "    </tr>\n",
              "    <tr>\n",
              "      <th>1</th>\n",
              "      <td>40414c05687cdb156823c156967b13f0</td>\n",
              "      <td>R3</td>\n",
              "      <td>0.0</td>\n",
              "      <td>0.0</td>\n",
              "      <td>0.0</td>\n",
              "      <td>0.0</td>\n",
              "      <td>1.0</td>\n",
              "      <td>0.0</td>\n",
              "      <td>0.0</td>\n",
              "      <td>0.0</td>\n",
              "      <td>0.0</td>\n",
              "      <td>0.0</td>\n",
              "      <td>0.0</td>\n",
              "      <td>0.0</td>\n",
              "      <td>0.0</td>\n",
              "      <td>0.0</td>\n",
              "      <td>0.0</td>\n",
              "    </tr>\n",
              "    <tr>\n",
              "      <th>2</th>\n",
              "      <td>0e4a464dfbf8abc6333c82f1b77b6455</td>\n",
              "      <td>R3</td>\n",
              "      <td>0.0</td>\n",
              "      <td>0.0</td>\n",
              "      <td>0.0</td>\n",
              "      <td>0.0</td>\n",
              "      <td>1.0</td>\n",
              "      <td>0.0</td>\n",
              "      <td>0.0</td>\n",
              "      <td>0.0</td>\n",
              "      <td>0.0</td>\n",
              "      <td>0.0</td>\n",
              "      <td>0.0</td>\n",
              "      <td>0.0</td>\n",
              "      <td>0.0</td>\n",
              "      <td>0.0</td>\n",
              "      <td>0.0</td>\n",
              "    </tr>\n",
              "    <tr>\n",
              "      <th>3</th>\n",
              "      <td>f4d3fab0b71381e6b237dc36301e85a0</td>\n",
              "      <td>R3</td>\n",
              "      <td>0.0</td>\n",
              "      <td>0.0</td>\n",
              "      <td>0.0</td>\n",
              "      <td>0.0</td>\n",
              "      <td>1.0</td>\n",
              "      <td>0.0</td>\n",
              "      <td>0.0</td>\n",
              "      <td>0.0</td>\n",
              "      <td>0.0</td>\n",
              "      <td>0.0</td>\n",
              "      <td>0.0</td>\n",
              "      <td>0.0</td>\n",
              "      <td>0.0</td>\n",
              "      <td>0.0</td>\n",
              "      <td>0.0</td>\n",
              "    </tr>\n",
              "    <tr>\n",
              "      <th>4</th>\n",
              "      <td>b58c9b1c89978a0b1f8533b7a2ca1088</td>\n",
              "      <td>R3</td>\n",
              "      <td>0.0</td>\n",
              "      <td>0.0</td>\n",
              "      <td>0.0</td>\n",
              "      <td>1.0</td>\n",
              "      <td>0.0</td>\n",
              "      <td>0.0</td>\n",
              "      <td>0.0</td>\n",
              "      <td>0.0</td>\n",
              "      <td>0.0</td>\n",
              "      <td>0.0</td>\n",
              "      <td>0.0</td>\n",
              "      <td>0.0</td>\n",
              "      <td>0.0</td>\n",
              "      <td>0.0</td>\n",
              "      <td>0.0</td>\n",
              "    </tr>\n",
              "  </tbody>\n",
              "</table>\n",
              "</div>\n",
              "    <div class=\"colab-df-buttons\">\n",
              "\n",
              "  <div class=\"colab-df-container\">\n",
              "    <button class=\"colab-df-convert\" onclick=\"convertToInteractive('df-1ce825ac-2825-4e97-8989-65371c9af6f1')\"\n",
              "            title=\"Convert this dataframe to an interactive table.\"\n",
              "            style=\"display:none;\">\n",
              "\n",
              "  <svg xmlns=\"http://www.w3.org/2000/svg\" height=\"24px\" viewBox=\"0 -960 960 960\">\n",
              "    <path d=\"M120-120v-720h720v720H120Zm60-500h600v-160H180v160Zm220 220h160v-160H400v160Zm0 220h160v-160H400v160ZM180-400h160v-160H180v160Zm440 0h160v-160H620v160ZM180-180h160v-160H180v160Zm440 0h160v-160H620v160Z\"/>\n",
              "  </svg>\n",
              "    </button>\n",
              "\n",
              "  <style>\n",
              "    .colab-df-container {\n",
              "      display:flex;\n",
              "      gap: 12px;\n",
              "    }\n",
              "\n",
              "    .colab-df-convert {\n",
              "      background-color: #E8F0FE;\n",
              "      border: none;\n",
              "      border-radius: 50%;\n",
              "      cursor: pointer;\n",
              "      display: none;\n",
              "      fill: #1967D2;\n",
              "      height: 32px;\n",
              "      padding: 0 0 0 0;\n",
              "      width: 32px;\n",
              "    }\n",
              "\n",
              "    .colab-df-convert:hover {\n",
              "      background-color: #E2EBFA;\n",
              "      box-shadow: 0px 1px 2px rgba(60, 64, 67, 0.3), 0px 1px 3px 1px rgba(60, 64, 67, 0.15);\n",
              "      fill: #174EA6;\n",
              "    }\n",
              "\n",
              "    .colab-df-buttons div {\n",
              "      margin-bottom: 4px;\n",
              "    }\n",
              "\n",
              "    [theme=dark] .colab-df-convert {\n",
              "      background-color: #3B4455;\n",
              "      fill: #D2E3FC;\n",
              "    }\n",
              "\n",
              "    [theme=dark] .colab-df-convert:hover {\n",
              "      background-color: #434B5C;\n",
              "      box-shadow: 0px 1px 3px 1px rgba(0, 0, 0, 0.15);\n",
              "      filter: drop-shadow(0px 1px 2px rgba(0, 0, 0, 0.3));\n",
              "      fill: #FFFFFF;\n",
              "    }\n",
              "  </style>\n",
              "\n",
              "    <script>\n",
              "      const buttonEl =\n",
              "        document.querySelector('#df-1ce825ac-2825-4e97-8989-65371c9af6f1 button.colab-df-convert');\n",
              "      buttonEl.style.display =\n",
              "        google.colab.kernel.accessAllowed ? 'block' : 'none';\n",
              "\n",
              "      async function convertToInteractive(key) {\n",
              "        const element = document.querySelector('#df-1ce825ac-2825-4e97-8989-65371c9af6f1');\n",
              "        const dataTable =\n",
              "          await google.colab.kernel.invokeFunction('convertToInteractive',\n",
              "                                                    [key], {});\n",
              "        if (!dataTable) return;\n",
              "\n",
              "        const docLinkHtml = 'Like what you see? Visit the ' +\n",
              "          '<a target=\"_blank\" href=https://colab.research.google.com/notebooks/data_table.ipynb>data table notebook</a>'\n",
              "          + ' to learn more about interactive tables.';\n",
              "        element.innerHTML = '';\n",
              "        dataTable['output_type'] = 'display_data';\n",
              "        await google.colab.output.renderOutput(dataTable, element);\n",
              "        const docLink = document.createElement('div');\n",
              "        docLink.innerHTML = docLinkHtml;\n",
              "        element.appendChild(docLink);\n",
              "      }\n",
              "    </script>\n",
              "  </div>\n",
              "\n",
              "\n",
              "<div id=\"df-81d12125-9d0a-4551-8c10-9380087ffa1b\">\n",
              "  <button class=\"colab-df-quickchart\" onclick=\"quickchart('df-81d12125-9d0a-4551-8c10-9380087ffa1b')\"\n",
              "            title=\"Suggest charts\"\n",
              "            style=\"display:none;\">\n",
              "\n",
              "<svg xmlns=\"http://www.w3.org/2000/svg\" height=\"24px\"viewBox=\"0 0 24 24\"\n",
              "     width=\"24px\">\n",
              "    <g>\n",
              "        <path d=\"M19 3H5c-1.1 0-2 .9-2 2v14c0 1.1.9 2 2 2h14c1.1 0 2-.9 2-2V5c0-1.1-.9-2-2-2zM9 17H7v-7h2v7zm4 0h-2V7h2v10zm4 0h-2v-4h2v4z\"/>\n",
              "    </g>\n",
              "</svg>\n",
              "  </button>\n",
              "\n",
              "<style>\n",
              "  .colab-df-quickchart {\n",
              "      --bg-color: #E8F0FE;\n",
              "      --fill-color: #1967D2;\n",
              "      --hover-bg-color: #E2EBFA;\n",
              "      --hover-fill-color: #174EA6;\n",
              "      --disabled-fill-color: #AAA;\n",
              "      --disabled-bg-color: #DDD;\n",
              "  }\n",
              "\n",
              "  [theme=dark] .colab-df-quickchart {\n",
              "      --bg-color: #3B4455;\n",
              "      --fill-color: #D2E3FC;\n",
              "      --hover-bg-color: #434B5C;\n",
              "      --hover-fill-color: #FFFFFF;\n",
              "      --disabled-bg-color: #3B4455;\n",
              "      --disabled-fill-color: #666;\n",
              "  }\n",
              "\n",
              "  .colab-df-quickchart {\n",
              "    background-color: var(--bg-color);\n",
              "    border: none;\n",
              "    border-radius: 50%;\n",
              "    cursor: pointer;\n",
              "    display: none;\n",
              "    fill: var(--fill-color);\n",
              "    height: 32px;\n",
              "    padding: 0;\n",
              "    width: 32px;\n",
              "  }\n",
              "\n",
              "  .colab-df-quickchart:hover {\n",
              "    background-color: var(--hover-bg-color);\n",
              "    box-shadow: 0 1px 2px rgba(60, 64, 67, 0.3), 0 1px 3px 1px rgba(60, 64, 67, 0.15);\n",
              "    fill: var(--button-hover-fill-color);\n",
              "  }\n",
              "\n",
              "  .colab-df-quickchart-complete:disabled,\n",
              "  .colab-df-quickchart-complete:disabled:hover {\n",
              "    background-color: var(--disabled-bg-color);\n",
              "    fill: var(--disabled-fill-color);\n",
              "    box-shadow: none;\n",
              "  }\n",
              "\n",
              "  .colab-df-spinner {\n",
              "    border: 2px solid var(--fill-color);\n",
              "    border-color: transparent;\n",
              "    border-bottom-color: var(--fill-color);\n",
              "    animation:\n",
              "      spin 1s steps(1) infinite;\n",
              "  }\n",
              "\n",
              "  @keyframes spin {\n",
              "    0% {\n",
              "      border-color: transparent;\n",
              "      border-bottom-color: var(--fill-color);\n",
              "      border-left-color: var(--fill-color);\n",
              "    }\n",
              "    20% {\n",
              "      border-color: transparent;\n",
              "      border-left-color: var(--fill-color);\n",
              "      border-top-color: var(--fill-color);\n",
              "    }\n",
              "    30% {\n",
              "      border-color: transparent;\n",
              "      border-left-color: var(--fill-color);\n",
              "      border-top-color: var(--fill-color);\n",
              "      border-right-color: var(--fill-color);\n",
              "    }\n",
              "    40% {\n",
              "      border-color: transparent;\n",
              "      border-right-color: var(--fill-color);\n",
              "      border-top-color: var(--fill-color);\n",
              "    }\n",
              "    60% {\n",
              "      border-color: transparent;\n",
              "      border-right-color: var(--fill-color);\n",
              "    }\n",
              "    80% {\n",
              "      border-color: transparent;\n",
              "      border-right-color: var(--fill-color);\n",
              "      border-bottom-color: var(--fill-color);\n",
              "    }\n",
              "    90% {\n",
              "      border-color: transparent;\n",
              "      border-bottom-color: var(--fill-color);\n",
              "    }\n",
              "  }\n",
              "</style>\n",
              "\n",
              "  <script>\n",
              "    async function quickchart(key) {\n",
              "      const quickchartButtonEl =\n",
              "        document.querySelector('#' + key + ' button');\n",
              "      quickchartButtonEl.disabled = true;  // To prevent multiple clicks.\n",
              "      quickchartButtonEl.classList.add('colab-df-spinner');\n",
              "      try {\n",
              "        const charts = await google.colab.kernel.invokeFunction(\n",
              "            'suggestCharts', [key], {});\n",
              "      } catch (error) {\n",
              "        console.error('Error during call to suggestCharts:', error);\n",
              "      }\n",
              "      quickchartButtonEl.classList.remove('colab-df-spinner');\n",
              "      quickchartButtonEl.classList.add('colab-df-quickchart-complete');\n",
              "    }\n",
              "    (() => {\n",
              "      let quickchartButtonEl =\n",
              "        document.querySelector('#df-81d12125-9d0a-4551-8c10-9380087ffa1b button');\n",
              "      quickchartButtonEl.style.display =\n",
              "        google.colab.kernel.accessAllowed ? 'block' : 'none';\n",
              "    })();\n",
              "  </script>\n",
              "</div>\n",
              "\n",
              "    </div>\n",
              "  </div>\n"
            ],
            "application/vnd.google.colaboratory.intrinsic+json": {
              "type": "dataframe",
              "variable_name": "label",
              "summary": "{\n  \"name\": \"label\",\n  \"rows\": 7728,\n  \"fields\": [\n    {\n      \"column\": \"image_id\",\n      \"properties\": {\n        \"dtype\": \"string\",\n        \"num_unique_values\": 7728,\n        \"samples\": [\n          \"c24ebca74bbec41de8bf58c9e6577e88\",\n          \"c0ee2841e326cc0ae6f235ef2511071b\",\n          \"c19c935ffb17a6fc0d22969f4ea413ac\"\n        ],\n        \"semantic_type\": \"\",\n        \"description\": \"\"\n      }\n    },\n    {\n      \"column\": \"rad_ID\",\n      \"properties\": {\n        \"dtype\": \"category\",\n        \"num_unique_values\": 6,\n        \"samples\": [\n          \"R3\",\n          \"R4\",\n          \"R6\"\n        ],\n        \"semantic_type\": \"\",\n        \"description\": \"\"\n      }\n    },\n    {\n      \"column\": \"No finding\",\n      \"properties\": {\n        \"dtype\": \"number\",\n        \"std\": 0.47184518005825304,\n        \"min\": 0.0,\n        \"max\": 1.0,\n        \"num_unique_values\": 2,\n        \"samples\": [\n          1.0,\n          0.0\n        ],\n        \"semantic_type\": \"\",\n        \"description\": \"\"\n      }\n    },\n    {\n      \"column\": \"Bronchitis\",\n      \"properties\": {\n        \"dtype\": \"number\",\n        \"std\": 0.31160221926765336,\n        \"min\": 0.0,\n        \"max\": 1.0,\n        \"num_unique_values\": 2,\n        \"samples\": [\n          1.0,\n          0.0\n        ],\n        \"semantic_type\": \"\",\n        \"description\": \"\"\n      }\n    },\n    {\n      \"column\": \"Brocho-pneumonia\",\n      \"properties\": {\n        \"dtype\": \"number\",\n        \"std\": 0.2560425663438714,\n        \"min\": 0.0,\n        \"max\": 1.0,\n        \"num_unique_values\": 2,\n        \"samples\": [\n          1.0,\n          0.0\n        ],\n        \"semantic_type\": \"\",\n        \"description\": \"\"\n      }\n    },\n    {\n      \"column\": \"Other disease\",\n      \"properties\": {\n        \"dtype\": \"number\",\n        \"std\": 0.22467070267223369,\n        \"min\": 0.0,\n        \"max\": 1.0,\n        \"num_unique_values\": 2,\n        \"samples\": [\n          1.0,\n          0.0\n        ],\n        \"semantic_type\": \"\",\n        \"description\": \"\"\n      }\n    },\n    {\n      \"column\": \"Bronchiolitis\",\n      \"properties\": {\n        \"dtype\": \"number\",\n        \"std\": 0.245323053872069,\n        \"min\": 0.0,\n        \"max\": 1.0,\n        \"num_unique_values\": 2,\n        \"samples\": [\n          1.0,\n          0.0\n        ],\n        \"semantic_type\": \"\",\n        \"description\": \"\"\n      }\n    },\n    {\n      \"column\": \"Situs inversus\",\n      \"properties\": {\n        \"dtype\": \"number\",\n        \"std\": 0.03770349239732005,\n        \"min\": 0.0,\n        \"max\": 1.0,\n        \"num_unique_values\": 2,\n        \"samples\": [\n          1.0,\n          0.0\n        ],\n        \"semantic_type\": \"\",\n        \"description\": \"\"\n      }\n    },\n    {\n      \"column\": \"Pneumonia\",\n      \"properties\": {\n        \"dtype\": \"number\",\n        \"std\": 0.21944903832794554,\n        \"min\": 0.0,\n        \"max\": 1.0,\n        \"num_unique_values\": 2,\n        \"samples\": [\n          0.0,\n          1.0\n        ],\n        \"semantic_type\": \"\",\n        \"description\": \"\"\n      }\n    },\n    {\n      \"column\": \"Pleuro-pneumonia\",\n      \"properties\": {\n        \"dtype\": \"number\",\n        \"std\": 0.027854894057121417,\n        \"min\": 0.0,\n        \"max\": 1.0,\n        \"num_unique_values\": 2,\n        \"samples\": [\n          1.0,\n          0.0\n        ],\n        \"semantic_type\": \"\",\n        \"description\": \"\"\n      }\n    },\n    {\n      \"column\": \"Diagphramatic hernia\",\n      \"properties\": {\n        \"dtype\": \"number\",\n        \"std\": 0.019700210132003078,\n        \"min\": 0.0,\n        \"max\": 1.0,\n        \"num_unique_values\": 2,\n        \"samples\": [\n          1.0,\n          0.0\n        ],\n        \"semantic_type\": \"\",\n        \"description\": \"\"\n      }\n    },\n    {\n      \"column\": \"Tuberculosis\",\n      \"properties\": {\n        \"dtype\": \"number\",\n        \"std\": 0.04252700735405639,\n        \"min\": 0.0,\n        \"max\": 1.0,\n        \"num_unique_values\": 2,\n        \"samples\": [\n          1.0,\n          0.0\n        ],\n        \"semantic_type\": \"\",\n        \"description\": \"\"\n      }\n    },\n    {\n      \"column\": \"Congenital emphysema\",\n      \"properties\": {\n        \"dtype\": \"number\",\n        \"std\": 0.016086195292952816,\n        \"min\": 0.0,\n        \"max\": 1.0,\n        \"num_unique_values\": 2,\n        \"samples\": [\n          1.0,\n          0.0\n        ],\n        \"semantic_type\": \"\",\n        \"description\": \"\"\n      }\n    },\n    {\n      \"column\": \"CPAM\",\n      \"properties\": {\n        \"dtype\": \"number\",\n        \"std\": 0.025429569426364602,\n        \"min\": 0.0,\n        \"max\": 1.0,\n        \"num_unique_values\": 2,\n        \"samples\": [\n          1.0,\n          0.0\n        ],\n        \"semantic_type\": \"\",\n        \"description\": \"\"\n      }\n    },\n    {\n      \"column\": \"Hyaline membrane disease\",\n      \"properties\": {\n        \"dtype\": \"number\",\n        \"std\": 0.04952640565322672,\n        \"min\": 0.0,\n        \"max\": 1.0,\n        \"num_unique_values\": 2,\n        \"samples\": [\n          1.0,\n          0.0\n        ],\n        \"semantic_type\": \"\",\n        \"description\": \"\"\n      }\n    },\n    {\n      \"column\": \"Mediastinal tumor\",\n      \"properties\": {\n        \"dtype\": \"number\",\n        \"std\": 0.03215989564443395,\n        \"min\": 0.0,\n        \"max\": 1.0,\n        \"num_unique_values\": 2,\n        \"samples\": [\n          1.0,\n          0.0\n        ],\n        \"semantic_type\": \"\",\n        \"description\": \"\"\n      }\n    },\n    {\n      \"column\": \"Lung tumor\",\n      \"properties\": {\n        \"dtype\": \"number\",\n        \"std\": 0.025429569426364602,\n        \"min\": 0.0,\n        \"max\": 1.0,\n        \"num_unique_values\": 2,\n        \"samples\": [\n          1.0,\n          0.0\n        ],\n        \"semantic_type\": \"\",\n        \"description\": \"\"\n      }\n    }\n  ]\n}"
            }
          },
          "metadata": {},
          "execution_count": 4
        }
      ],
      "source": [
        "annotation = pd.read_csv('/content/drive/MyDrive/annotations_train.csv')\n",
        "label = pd.read_csv('/content/drive/MyDrive/image_labels_train.csv')\n",
        "label.head()"
      ]
    },
    {
      "cell_type": "code",
      "execution_count": 5,
      "metadata": {
        "id": "hD_z3Pu08__v",
        "colab": {
          "base_uri": "https://localhost:8080/"
        },
        "outputId": "ff2dd21f-af44-4d5e-fcce-3e727d858292"
      },
      "outputs": [
        {
          "output_type": "execute_result",
          "data": {
            "text/plain": [
              "(497, 5143)"
            ]
          },
          "metadata": {},
          "execution_count": 5
        }
      ],
      "source": [
        "Case = label[label['Bronchiolitis']==1]['image_id'].tolist()\n",
        "Control = label[label['No finding']==1]['image_id'].tolist()\n",
        "\n",
        "len(Case), len(Control)"
      ]
    },
    {
      "cell_type": "markdown",
      "metadata": {
        "id": "Eqy5j38v9gtx"
      },
      "source": [
        "# Bronchiolitis"
      ]
    },
    {
      "cell_type": "code",
      "execution_count": 41,
      "metadata": {
        "id": "Ju8R1unB9L-1"
      },
      "outputs": [],
      "source": [
        "#size = 224\n",
        "size = 384\n",
        "img_size = (size,size)\n",
        "dir_name = \"/content/drive/MyDrive/train\"\n",
        "\n",
        "Bronchiolitis = []\n",
        "for img in Case[0:497]:\n",
        "    img_list = ('' + dir_name + '/' +img + '.dicom')\n",
        "    temp_img = pydicom.dcmread(img_list)\n",
        "    img_list = temp_img.pixel_array\n",
        "    #temp_img_array = img_to_array(img_list) /255\n",
        "    img_list_resized = cv2.resize(img_list, img_size)\n",
        "    temp_img_array = img_to_array(img_list_resized) /255\n",
        "    Bronchiolitis.append(temp_img_array)\n",
        "Bronchiolitis = np.array(Bronchiolitis)\n",
        "Bronchiolitis2 = Bronchiolitis.reshape(-1,size*size)\n",
        "df_case=pd.DataFrame(Bronchiolitis2)\n",
        "df_case['label'] = np.full(Bronchiolitis.shape[0],1)"
      ]
    },
    {
      "cell_type": "code",
      "execution_count": 42,
      "metadata": {
        "id": "uLkdyMZz4lmb",
        "colab": {
          "base_uri": "https://localhost:8080/",
          "height": 401
        },
        "outputId": "0b5c2953-bd1e-4a94-c6a5-db2decb4cc1e"
      },
      "outputs": [
        {
          "output_type": "execute_result",
          "data": {
            "text/plain": [
              "<PIL.Image.Image image mode=L size=384x384>"
            ],
            "image/png": "[encoded data removed]"
          },
          "metadata": {},
          "execution_count": 42
        }
      ],
      "source": [
        "x = img_to_array(temp_img_array)\n",
        "array_to_img(x)"
      ]
    },
    {
      "cell_type": "markdown",
      "metadata": {
        "id": "rK-1AtVM-o4o"
      },
      "source": [
        "# Control"
      ]
    },
    {
      "cell_type": "code",
      "execution_count": 43,
      "metadata": {
        "id": "KQLon4mH9qVX"
      },
      "outputs": [],
      "source": [
        "CTRL = []\n",
        "for img in Control[0:497]:\n",
        "    img_list = ('' + dir_name + '/' +img + '.dicom')\n",
        "    temp_img = pydicom.dcmread(img_list)\n",
        "    img_list = temp_img.pixel_array\n",
        "    #temp_img_array = img_to_array(img_list) /255\n",
        "    img_list_resized = cv2.resize(img_list, img_size)\n",
        "    temp_img_array = img_to_array(img_list_resized) /255\n",
        "    CTRL.append(temp_img_array)\n",
        "CTRL = np.array(CTRL)\n",
        "CTRL2 = CTRL.reshape(-1,size*size)\n",
        "df_ctrl=pd.DataFrame(CTRL2)\n",
        "df_ctrl['label'] = np.full(CTRL.shape[0],0)"
      ]
    },
    {
      "cell_type": "markdown",
      "metadata": {
        "id": "yWbI2D4c-0MQ"
      },
      "source": [
        "# Preparation"
      ]
    },
    {
      "cell_type": "code",
      "execution_count": 44,
      "metadata": {
        "id": "9XWH8778-ucy"
      },
      "outputs": [],
      "source": [
        "Df = pd.concat([df_case, df_ctrl], ignore_index=True)\n",
        "\n",
        "x_train, x_test, y_train, y_test = train_test_split(Df.iloc[:,0:-1], Df.iloc[:,-1], test_size=0.20, random_state=42)\n",
        "\n",
        "X_train = x_train.values.reshape(-1,size, size)\n",
        "X_test = x_test.values.reshape(-1,size, size)\n",
        "\n",
        "X_train = np.repeat(X_train[..., np.newaxis], 3, -1)\n",
        "X_test = np.repeat(X_test[..., np.newaxis], 3, -1)\n",
        "\n",
        "Y_train = to_categorical(y_train)\n",
        "Y_test = to_categorical(y_test)"
      ]
    },
    {
      "cell_type": "code",
      "source": [
        "X_train.shape"
      ],
      "metadata": {
        "colab": {
          "base_uri": "https://localhost:8080/"
        },
        "id": "6azSz5Ar8R5v",
        "outputId": "2626202e-28cc-478f-be09-cb4261d4926e"
      },
      "execution_count": 45,
      "outputs": [
        {
          "output_type": "execute_result",
          "data": {
            "text/plain": [
              "(795, 384, 384, 3)"
            ]
          },
          "metadata": {},
          "execution_count": 45
        }
      ]
    },
    {
      "cell_type": "markdown",
      "metadata": {
        "id": "Rf5__UeV7KNp"
      },
      "source": [
        "# Model"
      ]
    },
    {
      "cell_type": "code",
      "execution_count": 46,
      "metadata": {
        "id": "CC1ldm7K-6HE"
      },
      "outputs": [],
      "source": [
        "np.random.seed(0)\n",
        "model = Sequential()\n",
        "\n",
        "model.add(BatchNormalization(input_shape=(size, size ,3)))\n",
        "#model.add(Input(shape=(224,224,1)))\n",
        "model.add(Conv2D(16, kernel_size=(3,3), padding='same', activation='relu'))\n",
        "model.add(MaxPool2D(pool_size=(2,2)))\n",
        "model.add(Dropout(0.35))\n",
        "model.add(Flatten())\n",
        "model.add(Dense(128, activation='relu'))\n",
        "model.add(Dropout(0.35))\n",
        "model.add(Dense(2, activation='softmax'))\n",
        "model.compile(optimizer='adam', loss='categorical_crossentropy', metrics=['accuracy'])"
      ]
    },
    {
      "cell_type": "code",
      "execution_count": 47,
      "metadata": {
        "id": "lUkln2DZ_bRi",
        "colab": {
          "base_uri": "https://localhost:8080/"
        },
        "outputId": "0115ddaf-06b1-4bd3-b2bc-6878935aa7c2"
      },
      "outputs": [
        {
          "output_type": "stream",
          "name": "stdout",
          "text": [
            "Model: \"sequential_1\"\n",
            "_________________________________________________________________\n",
            " Layer (type)                Output Shape              Param #   \n",
            "=================================================================\n",
            " batch_normalization_5 (Bat  (None, 384, 384, 3)       12        \n",
            " chNormalization)                                                \n",
            "                                                                 \n",
            " conv2d_1 (Conv2D)           (None, 384, 384, 16)      448       \n",
            "                                                                 \n",
            " max_pooling2d_1 (MaxPoolin  (None, 192, 192, 16)      0         \n",
            " g2D)                                                            \n",
            "                                                                 \n",
            " dropout_6 (Dropout)         (None, 192, 192, 16)      0         \n",
            "                                                                 \n",
            " flatten_1 (Flatten)         (None, 589824)            0         \n",
            "                                                                 \n",
            " dense_6 (Dense)             (None, 128)               75497600  \n",
            "                                                                 \n",
            " dropout_7 (Dropout)         (None, 128)               0         \n",
            "                                                                 \n",
            " dense_7 (Dense)             (None, 2)                 258       \n",
            "                                                                 \n",
            "=================================================================\n",
            "Total params: 75498318 (288.00 MB)\n",
            "Trainable params: 75498312 (288.00 MB)\n",
            "Non-trainable params: 6 (24.00 Byte)\n",
            "_________________________________________________________________\n"
          ]
        }
      ],
      "source": [
        "model.summary()"
      ]
    },
    {
      "cell_type": "code",
      "execution_count": 95,
      "metadata": {
        "id": "ONkSmofL_dbn"
      },
      "outputs": [],
      "source": [
        "model_chkpt = ModelCheckpoint('best_mod.keras', save_best_only=True, monitor='val_accuracy')\n",
        "early_stopping = EarlyStopping(monitor='val_loss', restore_best_weights=False, patience=5)"
      ]
    },
    {
      "cell_type": "code",
      "execution_count": 49,
      "metadata": {
        "id": "fi0XU44CAi_r",
        "colab": {
          "base_uri": "https://localhost:8080/"
        },
        "outputId": "13e23345-7bdc-41b2-b753-3eaa418fd7be"
      },
      "outputs": [
        {
          "output_type": "stream",
          "name": "stdout",
          "text": [
            "Epoch 1/20\n",
            "40/40 [==============================] - 8s 184ms/step - loss: 26.2095 - accuracy: 0.5692 - val_loss: 3.6771 - val_accuracy: 0.5472\n",
            "Epoch 2/20\n",
            "40/40 [==============================] - 6s 154ms/step - loss: 0.9714 - accuracy: 0.5739 - val_loss: 0.7578 - val_accuracy: 0.6038\n",
            "Epoch 3/20\n",
            "40/40 [==============================] - 6s 150ms/step - loss: 0.6768 - accuracy: 0.6226 - val_loss: 0.6833 - val_accuracy: 0.6164\n",
            "Epoch 4/20\n",
            "40/40 [==============================] - 6s 153ms/step - loss: 0.6346 - accuracy: 0.6258 - val_loss: 1.3196 - val_accuracy: 0.5535\n",
            "Epoch 5/20\n",
            "40/40 [==============================] - 6s 155ms/step - loss: 0.6218 - accuracy: 0.6525 - val_loss: 0.6920 - val_accuracy: 0.5660\n",
            "Epoch 6/20\n",
            "40/40 [==============================] - 6s 153ms/step - loss: 0.5943 - accuracy: 0.6698 - val_loss: 0.6693 - val_accuracy: 0.5597\n",
            "Epoch 7/20\n",
            "40/40 [==============================] - 3s 69ms/step - loss: 0.6353 - accuracy: 0.6148 - val_loss: 0.6822 - val_accuracy: 0.5786\n",
            "Epoch 8/20\n",
            "40/40 [==============================] - 3s 69ms/step - loss: 0.5867 - accuracy: 0.6682 - val_loss: 0.7541 - val_accuracy: 0.5409\n",
            "Epoch 9/20\n",
            "40/40 [==============================] - 3s 69ms/step - loss: 0.5889 - accuracy: 0.6541 - val_loss: 0.6834 - val_accuracy: 0.5975\n",
            "Epoch 10/20\n",
            "40/40 [==============================] - 6s 154ms/step - loss: 0.5464 - accuracy: 0.7107 - val_loss: 0.6970 - val_accuracy: 0.5849\n",
            "Epoch 11/20\n",
            "40/40 [==============================] - 6s 153ms/step - loss: 0.5310 - accuracy: 0.7296 - val_loss: 0.6672 - val_accuracy: 0.5975\n",
            "Epoch 12/20\n",
            "40/40 [==============================] - 3s 69ms/step - loss: 0.5313 - accuracy: 0.7138 - val_loss: 0.7078 - val_accuracy: 0.5786\n",
            "Epoch 13/20\n",
            "40/40 [==============================] - 3s 69ms/step - loss: 0.5580 - accuracy: 0.6997 - val_loss: 0.8721 - val_accuracy: 0.5597\n",
            "Epoch 14/20\n",
            "40/40 [==============================] - 6s 154ms/step - loss: 0.4934 - accuracy: 0.7626 - val_loss: 0.7794 - val_accuracy: 0.5786\n",
            "Epoch 15/20\n",
            "40/40 [==============================] - 6s 151ms/step - loss: 0.4804 - accuracy: 0.7736 - val_loss: 0.8347 - val_accuracy: 0.5786\n",
            "Epoch 16/20\n",
            "40/40 [==============================] - 3s 71ms/step - loss: 0.4923 - accuracy: 0.7547 - val_loss: 0.7689 - val_accuracy: 0.5597\n",
            "Epoch 17/20\n",
            "40/40 [==============================] - 3s 69ms/step - loss: 0.4701 - accuracy: 0.7736 - val_loss: 1.5119 - val_accuracy: 0.5975\n",
            "Epoch 18/20\n",
            "40/40 [==============================] - 3s 69ms/step - loss: 0.4868 - accuracy: 0.7594 - val_loss: 1.4678 - val_accuracy: 0.5786\n",
            "Epoch 19/20\n",
            "40/40 [==============================] - 6s 161ms/step - loss: 0.4364 - accuracy: 0.8035 - val_loss: 2.0613 - val_accuracy: 0.6038\n",
            "Epoch 20/20\n",
            "40/40 [==============================] - 3s 70ms/step - loss: 0.4789 - accuracy: 0.7720 - val_loss: 1.7313 - val_accuracy: 0.6101\n"
          ]
        }
      ],
      "source": [
        "history = model.fit(X_train, Y_train,\n",
        "          validation_split=0.20,\n",
        "          epochs=20, batch_size=16, shuffle=True,\n",
        "          callbacks=[model_chkpt ,early_stopping]\n",
        "         )"
      ]
    },
    {
      "cell_type": "code",
      "execution_count": 50,
      "metadata": {
        "id": "01fHtpZgAmMh",
        "colab": {
          "base_uri": "https://localhost:8080/",
          "height": 291
        },
        "outputId": "6a1980c0-f244-4581-d227-84338f458170"
      },
      "outputs": [
        {
          "output_type": "display_data",
          "data": {
            "text/plain": [
              "<Figure size 1200x300 with 2 Axes>"
            ],
            "image/png": "[encoded data removed]"
          },
          "metadata": {}
        }
      ],
      "source": [
        "fig, ax = plt.subplots(1,2, figsize=(12, 3))\n",
        "ax[0].plot(history.history['loss'], color='b', label=\"Training loss\")\n",
        "ax[0].plot(history.history['val_loss'], color='r', label=\"validation loss\",axes =ax[0])\n",
        "legend = ax[0].legend(loc='best', shadow=True)\n",
        "\n",
        "ax[1].plot(history.history['accuracy'], color='b', label=\"Training accuracy\")\n",
        "ax[1].plot(history.history['val_accuracy'], color='r',label=\"Validation accuracy\")\n",
        "legend = ax[1].legend(loc='best', shadow=True)"
      ]
    },
    {
      "cell_type": "code",
      "execution_count": 51,
      "metadata": {
        "id": "jySJPz5QAut-",
        "colab": {
          "base_uri": "https://localhost:8080/",
          "height": 659
        },
        "outputId": "5b09478d-8e25-487b-aa00-dd90d698c10a"
      },
      "outputs": [
        {
          "output_type": "stream",
          "name": "stdout",
          "text": [
            "7/7 [==============================] - 0s 36ms/step\n"
          ]
        },
        {
          "output_type": "execute_result",
          "data": {
            "text/plain": [
              "<function matplotlib.pyplot.show(close=None, block=None)>"
            ],
            "text/html": [
              "<div style=\"max-width:800px; border: 1px solid var(--colab-border-color);\"><style>\n",
              "      pre.function-repr-contents {\n",
              "        overflow-x: auto;\n",
              "        padding: 8px 12px;\n",
              "        max-height: 500px;\n",
              "      }\n",
              "\n",
              "      pre.function-repr-contents.function-repr-contents-collapsed {\n",
              "        cursor: pointer;\n",
              "        max-height: 100px;\n",
              "      }\n",
              "    </style>\n",
              "    <pre style=\"white-space: initial; background:\n",
              "         var(--colab-secondary-surface-color); padding: 8px 12px;\n",
              "         border-bottom: 1px solid var(--colab-border-color);\"><b>matplotlib.pyplot.show</b><br/>def show(*args, **kwargs)</pre><pre class=\"function-repr-contents function-repr-contents-collapsed\" style=\"\"><a class=\"filepath\" style=\"display:none\" href=\"#\">/usr/local/lib/python3.10/dist-packages/matplotlib/pyplot.py</a>Display all open figures.\n",
              "\n",
              "Parameters\n",
              "----------\n",
              "block : bool, optional\n",
              "    Whether to wait for all figures to be closed before returning.\n",
              "\n",
              "    If `True` block and run the GUI main loop until all figure windows\n",
              "    are closed.\n",
              "\n",
              "    If `False` ensure that all figure windows are displayed and return\n",
              "    immediately.  In this case, you are responsible for ensuring\n",
              "    that the event loop is running to have responsive figures.\n",
              "\n",
              "    Defaults to True in non-interactive mode and to False in interactive\n",
              "    mode (see `.pyplot.isinteractive`).\n",
              "\n",
              "See Also\n",
              "--------\n",
              "ion : Enable interactive mode, which shows / updates the figure after\n",
              "      every plotting command, so that calling ``show()`` is not necessary.\n",
              "ioff : Disable interactive mode.\n",
              "savefig : Save the figure to an image file instead of showing it on screen.\n",
              "\n",
              "Notes\n",
              "-----\n",
              "**Saving figures to file and showing a window at the same time**\n",
              "\n",
              "If you want an image file as well as a user interface window, use\n",
              "`.pyplot.savefig` before `.pyplot.show`. At the end of (a blocking)\n",
              "``show()`` the figure is closed and thus unregistered from pyplot. Calling\n",
              "`.pyplot.savefig` afterwards would save a new and thus empty figure. This\n",
              "limitation of command order does not apply if the show is non-blocking or\n",
              "if you keep a reference to the figure and use `.Figure.savefig`.\n",
              "\n",
              "**Auto-show in jupyter notebooks**\n",
              "\n",
              "The jupyter backends (activated via ``%matplotlib inline``,\n",
              "``%matplotlib notebook``, or ``%matplotlib widget``), call ``show()`` at\n",
              "the end of every cell by default. Thus, you usually don&#x27;t have to call it\n",
              "explicitly there.</pre>\n",
              "      <script>\n",
              "      if (google.colab.kernel.accessAllowed && google.colab.files && google.colab.files.view) {\n",
              "        for (const element of document.querySelectorAll('.filepath')) {\n",
              "          element.style.display = 'block'\n",
              "          element.onclick = (event) => {\n",
              "            event.preventDefault();\n",
              "            event.stopPropagation();\n",
              "            google.colab.files.view(element.textContent, 401);\n",
              "          };\n",
              "        }\n",
              "      }\n",
              "      for (const element of document.querySelectorAll('.function-repr-contents')) {\n",
              "        element.onclick = (event) => {\n",
              "          event.preventDefault();\n",
              "          event.stopPropagation();\n",
              "          element.classList.toggle('function-repr-contents-collapsed');\n",
              "        };\n",
              "      }\n",
              "      </script>\n",
              "      </div>"
            ]
          },
          "metadata": {},
          "execution_count": 51
        },
        {
          "output_type": "display_data",
          "data": {
            "text/plain": [
              "<Figure size 640x480 with 2 Axes>"
            ],
            "image/png": "[encoded data removed]"
          },
          "metadata": {}
        }
      ],
      "source": [
        "plt.figure()\n",
        "\n",
        "ax = plt.subplot()\n",
        "\n",
        "ax.set_title('Confusion Matrix')\n",
        "#pred = model.predict_classes(X_test)\n",
        "pred_probs = model.predict(X_test)\n",
        "pred = np.argmax(pred_probs, axis=1)\n",
        "\n",
        "Y_TEST = np.argmax(Y_test, axis =1)\n",
        "cm = metrics.confusion_matrix(Y_TEST,pred)\n",
        "classes=['normal', 'bronchiolitis']\n",
        "sns.heatmap(cm, annot=True,xticklabels=classes, yticklabels=classes,cmap='Blues')\n",
        "\n",
        "plt.xlabel('Predicted')\n",
        "plt.ylabel('Actual')\n",
        "plt.show"
      ]
    },
    {
      "cell_type": "code",
      "execution_count": 52,
      "metadata": {
        "id": "O4mbePPVAyxB",
        "colab": {
          "base_uri": "https://localhost:8080/"
        },
        "outputId": "dae5b672-d04d-4482-f347-0cf0cde453d3"
      },
      "outputs": [
        {
          "output_type": "stream",
          "name": "stdout",
          "text": [
            "              precision    recall  f1-score   support\n",
            "\n",
            "           0       0.57      0.76      0.65       100\n",
            "           1       0.64      0.42      0.51        99\n",
            "\n",
            "    accuracy                           0.59       199\n",
            "   macro avg       0.60      0.59      0.58       199\n",
            "weighted avg       0.60      0.59      0.58       199\n",
            "\n",
            "normal = 0 , bronchiolitis = 1\n"
          ]
        }
      ],
      "source": [
        "print(classification_report(Y_TEST, pred))\n",
        "print('normal = 0 , bronchiolitis = 1')"
      ]
    },
    {
      "cell_type": "markdown",
      "metadata": {
        "id": "PbP52q5r1qtj"
      },
      "source": [
        "# Transfer"
      ]
    },
    {
      "cell_type": "code",
      "execution_count": 96,
      "metadata": {
        "id": "fV-8S6gi2CEx"
      },
      "outputs": [],
      "source": [
        "# params we will probably want to do some hyperparameter optimization later\n",
        "BASE_MODEL= 'DenseNet169' # ['VGG16', 'RESNET52', 'InceptionV3', 'Xception', 'DenseNet169', 'DenseNet121']\n",
        "IMG_SIZE = (384, 384) # [(224, 224), (384, 384), (512, 512), (640, 640)]\n",
        "BATCH_SIZE = 24 # [1, 8, 16, 24]\n",
        "DENSE_COUNT = 128 # [32, 64, 128, 256]\n",
        "DROPOUT = 0.7 # [0, 0.25, 0.5]\n",
        "LEARN_RATE = 1e-3 # [1e-4, 1e-3, 4e-3]\n",
        "TRAIN_SAMPLES = 200 # [3000, 6000, 15000]\n",
        "TEST_SAMPLES = 100\n",
        "USE_ATTN = False # [True, False]"
      ]
    },
    {
      "cell_type": "code",
      "execution_count": 97,
      "metadata": {
        "id": "QcU9YDa6rugu"
      },
      "outputs": [],
      "source": [
        "if BASE_MODEL=='VGG16':\n",
        "    from keras.applications.vgg16 import VGG16 as PTModel, preprocess_input\n",
        "elif BASE_MODEL=='RESNET52':\n",
        "    from keras.applications.resnet50 import ResNet50 as PTModel, preprocess_input\n",
        "elif BASE_MODEL=='InceptionV3':\n",
        "    from keras.applications.inception_v3 import InceptionV3 as PTModel, preprocess_input\n",
        "elif BASE_MODEL=='Xception':\n",
        "    from keras.applications.xception import Xception as PTModel, preprocess_input\n",
        "elif BASE_MODEL=='DenseNet169':\n",
        "    from keras.applications.densenet import DenseNet169 as PTModel, preprocess_input\n",
        "elif BASE_MODEL=='DenseNet121':\n",
        "    from keras.applications.densenet import DenseNet121 as PTModel, preprocess_input\n",
        "else:\n",
        "    raise ValueError('Unknown model: {}'.format(BASE_MODEL))"
      ]
    },
    {
      "cell_type": "code",
      "execution_count": 98,
      "metadata": {
        "id": "eUOB2trb11GK",
        "colab": {
          "base_uri": "https://localhost:8080/"
        },
        "outputId": "24a3ec64-cb7a-4f4b-b4f8-700b69b9a7a0"
      },
      "outputs": [
        {
          "output_type": "stream",
          "name": "stdout",
          "text": [
            "Downloading data from https://storage.googleapis.com/tensorflow/keras-applications/densenet/densenet169_weights_tf_dim_ordering_tf_kernels_notop.h5\n",
            "51877672/51877672 [==============================] - 0s 0us/step\n"
          ]
        }
      ],
      "source": [
        "base_pretrained_model = PTModel(input_shape =  (size, size,3),\n",
        "                              include_top = False, weights = 'imagenet')\n",
        "base_pretrained_model.trainable = False"
      ]
    },
    {
      "cell_type": "code",
      "execution_count": 99,
      "metadata": {
        "id": "jwJvz2iM2Jej",
        "colab": {
          "base_uri": "https://localhost:8080/"
        },
        "outputId": "2d7d4467-3da4-4d28-94a2-07de3d189ce7"
      },
      "outputs": [
        {
          "output_type": "stream",
          "name": "stdout",
          "text": [
            "Model: \"trained_model\"\n",
            "_________________________________________________________________\n",
            " Layer (type)                Output Shape              Param #   \n",
            "=================================================================\n",
            " feature_input (InputLayer)  [(None, 12, 12, 1664)]    0         \n",
            "                                                                 \n",
            " batch_normalization_14 (Ba  (None, 12, 12, 1664)      6656      \n",
            " tchNormalization)                                               \n",
            "                                                                 \n",
            " global_average_pooling2d_6  (None, 1664)              0         \n",
            "  (GlobalAveragePooling2D)                                       \n",
            "                                                                 \n",
            " dropout_16 (Dropout)        (None, 1664)              0         \n",
            "                                                                 \n",
            " dense_16 (Dense)            (None, 128)               212992    \n",
            "                                                                 \n",
            " dropout_17 (Dropout)        (None, 128)               0         \n",
            "                                                                 \n",
            " batch_normalization_15 (Ba  (None, 128)               512       \n",
            " tchNormalization)                                               \n",
            "                                                                 \n",
            " leaky_re_lu_6 (LeakyReLU)   (None, 128)               0         \n",
            "                                                                 \n",
            " dense_17 (Dense)            (None, 2)                 258       \n",
            "                                                                 \n",
            "=================================================================\n",
            "Total params: 220418 (861.01 KB)\n",
            "Trainable params: 216834 (847.01 KB)\n",
            "Non-trainable params: 3584 (14.00 KB)\n",
            "_________________________________________________________________\n"
          ]
        }
      ],
      "source": [
        "from keras.layers import GlobalAveragePooling2D, Dense, Dropout, Flatten, Input, Conv2D, multiply,  Lambda, AvgPool2D\n",
        "from keras.models import Model\n",
        "from keras.optimizers import Adam\n",
        "from keras import layers\n",
        "# Get output shape from the output layer of the base model\n",
        "# Get the output shape of the base model using .output\n",
        "pt_features_shape = base_pretrained_model.output.shape[1:]\n",
        "pt_features = Input(pt_features_shape, name = 'feature_input')\n",
        "pt_features = Input(shape=base_pretrained_model.output_shape[1:], name = 'feature_input')\n",
        "pt_depth = base_pretrained_model.output.shape[-1] # Extract depth from the output shape\n",
        "\n",
        "\n",
        "from keras.layers import BatchNormalization\n",
        "bn_features = BatchNormalization()(pt_features)\n",
        "gap = GlobalAveragePooling2D()(bn_features)\n",
        "\n",
        "gap_dr = Dropout(DROPOUT)(gap)\n",
        "dr_steps = Dropout(DROPOUT)(Dense(DENSE_COUNT, activation = 'linear', use_bias=False)(gap_dr))\n",
        "dr_steps = BatchNormalization()(dr_steps)\n",
        "dr_steps = layers.LeakyReLU(0.1)(dr_steps)\n",
        "out_layer = Dense(2, activation = 'softmax')(dr_steps)\n",
        "\n",
        "attn_model = Model(inputs = [pt_features],\n",
        "                   outputs = [out_layer], name = 'trained_model')\n",
        "\n",
        "attn_model.summary()"
      ]
    },
    {
      "cell_type": "code",
      "execution_count": 100,
      "metadata": {
        "id": "7Al73F4F2NDu",
        "colab": {
          "base_uri": "https://localhost:8080/"
        },
        "outputId": "a6ad69e2-f04f-46a5-9387-e56bd8972e8a"
      },
      "outputs": [
        {
          "output_type": "stream",
          "name": "stdout",
          "text": [
            "Model: \"combined_model\"\n",
            "_________________________________________________________________\n",
            " Layer (type)                Output Shape              Param #   \n",
            "=================================================================\n",
            " densenet169 (Functional)    (None, 12, 12, 1664)      12642880  \n",
            "                                                                 \n",
            " trained_model (Functional)  (None, 2)                 220418    \n",
            "                                                                 \n",
            "=================================================================\n",
            "Total params: 12863298 (49.07 MB)\n",
            "Trainable params: 216834 (847.01 KB)\n",
            "Non-trainable params: 12646464 (48.24 MB)\n",
            "_________________________________________________________________\n"
          ]
        }
      ],
      "source": [
        "from keras.models import Sequential\n",
        "from keras.optimizers import Adam\n",
        "\n",
        "pneu_model = Sequential(name = 'combined_model')\n",
        "pneu_model.add(Input(shape=base_pretrained_model.input_shape[1:], name = 'feature_input'))\n",
        "base_pretrained_model.trainable = False\n",
        "pneu_model.add(base_pretrained_model)\n",
        "pneu_model.add(attn_model)\n",
        "pneu_model.compile(optimizer = Adam(learning_rate = LEARN_RATE), loss = 'categorical_crossentropy',\n",
        "                           metrics = ['accuracy'])\n",
        "pneu_model.summary()"
      ]
    },
    {
      "cell_type": "code",
      "execution_count": 101,
      "metadata": {
        "id": "DfV3tX4u2X7E",
        "colab": {
          "base_uri": "https://localhost:8080/"
        },
        "outputId": "b6963a97-43de-4ddc-c5a5-33cdd3476ce0"
      },
      "outputs": [
        {
          "output_type": "stream",
          "name": "stdout",
          "text": [
            "Epoch 1/20\n",
            "40/40 [==============================] - 42s 672ms/step - loss: 0.8057 - accuracy: 0.5535 - val_loss: 0.7460 - val_accuracy: 0.5786\n",
            "Epoch 2/20\n",
            "40/40 [==============================] - 10s 239ms/step - loss: 0.6997 - accuracy: 0.6305 - val_loss: 0.6933 - val_accuracy: 0.6101\n",
            "Epoch 3/20\n",
            "40/40 [==============================] - 10s 241ms/step - loss: 0.6716 - accuracy: 0.6415 - val_loss: 0.6530 - val_accuracy: 0.6352\n",
            "Epoch 4/20\n",
            "40/40 [==============================] - 8s 188ms/step - loss: 0.6756 - accuracy: 0.6274 - val_loss: 0.6480 - val_accuracy: 0.6289\n",
            "Epoch 5/20\n",
            "40/40 [==============================] - 10s 254ms/step - loss: 0.6413 - accuracy: 0.6415 - val_loss: 0.6426 - val_accuracy: 0.6415\n",
            "Epoch 6/20\n",
            "40/40 [==============================] - 10s 243ms/step - loss: 0.6445 - accuracy: 0.6462 - val_loss: 0.6357 - val_accuracy: 0.6604\n",
            "Epoch 7/20\n",
            "40/40 [==============================] - 8s 191ms/step - loss: 0.6132 - accuracy: 0.6714 - val_loss: 0.6279 - val_accuracy: 0.6478\n",
            "Epoch 8/20\n",
            "40/40 [==============================] - 8s 190ms/step - loss: 0.6369 - accuracy: 0.6572 - val_loss: 0.6202 - val_accuracy: 0.6352\n",
            "Epoch 9/20\n",
            "40/40 [==============================] - 8s 191ms/step - loss: 0.5849 - accuracy: 0.6714 - val_loss: 0.6216 - val_accuracy: 0.6541\n",
            "Epoch 10/20\n",
            "40/40 [==============================] - 10s 258ms/step - loss: 0.5977 - accuracy: 0.6572 - val_loss: 0.6191 - val_accuracy: 0.6855\n",
            "Epoch 11/20\n",
            "40/40 [==============================] - 10s 243ms/step - loss: 0.5525 - accuracy: 0.6855 - val_loss: 0.6224 - val_accuracy: 0.6918\n",
            "Epoch 12/20\n",
            "40/40 [==============================] - 8s 192ms/step - loss: 0.5569 - accuracy: 0.7028 - val_loss: 0.6164 - val_accuracy: 0.6855\n",
            "Epoch 13/20\n",
            "40/40 [==============================] - 10s 247ms/step - loss: 0.5242 - accuracy: 0.7343 - val_loss: 0.6221 - val_accuracy: 0.6981\n",
            "Epoch 14/20\n",
            "40/40 [==============================] - 10s 258ms/step - loss: 0.5469 - accuracy: 0.7201 - val_loss: 0.6224 - val_accuracy: 0.7044\n",
            "Epoch 15/20\n",
            "40/40 [==============================] - 8s 192ms/step - loss: 0.5753 - accuracy: 0.6934 - val_loss: 0.6287 - val_accuracy: 0.6415\n",
            "Epoch 16/20\n",
            "40/40 [==============================] - 8s 193ms/step - loss: 0.5743 - accuracy: 0.6808 - val_loss: 0.6246 - val_accuracy: 0.6604\n",
            "Epoch 17/20\n",
            "40/40 [==============================] - 8s 193ms/step - loss: 0.5483 - accuracy: 0.7028 - val_loss: 0.6326 - val_accuracy: 0.6667\n"
          ]
        }
      ],
      "source": [
        "history = pneu_model.fit(X_train, Y_train,\n",
        "          validation_split=0.20,\n",
        "          epochs=20, batch_size=16, shuffle=True,\n",
        "          callbacks=[model_chkpt ,early_stopping]\n",
        "         )"
      ]
    },
    {
      "cell_type": "code",
      "execution_count": 102,
      "metadata": {
        "id": "uSv9u7yf2aqG",
        "colab": {
          "base_uri": "https://localhost:8080/",
          "height": 291
        },
        "outputId": "1cbf4796-a470-4203-99f1-665d036373fa"
      },
      "outputs": [
        {
          "output_type": "display_data",
          "data": {
            "text/plain": [
              "<Figure size 1200x300 with 2 Axes>"
            ],
            "image/png": "[encoded data removed]"
          },
          "metadata": {}
        }
      ],
      "source": [
        "fig, ax = plt.subplots(1,2, figsize=(12, 3))\n",
        "ax[0].plot(history.history['loss'], color='b', label=\"Training loss\")\n",
        "ax[0].plot(history.history['val_loss'], color='r', label=\"validation loss\",axes =ax[0])\n",
        "legend = ax[0].legend(loc='best', shadow=True)\n",
        "\n",
        "ax[1].plot(history.history['accuracy'], color='b', label=\"Training accuracy\")\n",
        "ax[1].plot(history.history['val_accuracy'], color='r',label=\"Validation accuracy\")\n",
        "legend = ax[1].legend(loc='best', shadow=True)"
      ]
    },
    {
      "cell_type": "code",
      "execution_count": 103,
      "metadata": {
        "id": "VaqlkOKz2thC",
        "colab": {
          "base_uri": "https://localhost:8080/",
          "height": 659
        },
        "outputId": "c418bdea-9cd0-48d1-a86d-49211607834d"
      },
      "outputs": [
        {
          "output_type": "stream",
          "name": "stdout",
          "text": [
            "7/7 [==============================] - 20s 1s/step\n"
          ]
        },
        {
          "output_type": "execute_result",
          "data": {
            "text/plain": [
              "<function matplotlib.pyplot.show(close=None, block=None)>"
            ],
            "text/html": [
              "<div style=\"max-width:800px; border: 1px solid var(--colab-border-color);\"><style>\n",
              "      pre.function-repr-contents {\n",
              "        overflow-x: auto;\n",
              "        padding: 8px 12px;\n",
              "        max-height: 500px;\n",
              "      }\n",
              "\n",
              "      pre.function-repr-contents.function-repr-contents-collapsed {\n",
              "        cursor: pointer;\n",
              "        max-height: 100px;\n",
              "      }\n",
              "    </style>\n",
              "    <pre style=\"white-space: initial; background:\n",
              "         var(--colab-secondary-surface-color); padding: 8px 12px;\n",
              "         border-bottom: 1px solid var(--colab-border-color);\"><b>matplotlib.pyplot.show</b><br/>def show(*args, **kwargs)</pre><pre class=\"function-repr-contents function-repr-contents-collapsed\" style=\"\"><a class=\"filepath\" style=\"display:none\" href=\"#\">/usr/local/lib/python3.10/dist-packages/matplotlib/pyplot.py</a>Display all open figures.\n",
              "\n",
              "Parameters\n",
              "----------\n",
              "block : bool, optional\n",
              "    Whether to wait for all figures to be closed before returning.\n",
              "\n",
              "    If `True` block and run the GUI main loop until all figure windows\n",
              "    are closed.\n",
              "\n",
              "    If `False` ensure that all figure windows are displayed and return\n",
              "    immediately.  In this case, you are responsible for ensuring\n",
              "    that the event loop is running to have responsive figures.\n",
              "\n",
              "    Defaults to True in non-interactive mode and to False in interactive\n",
              "    mode (see `.pyplot.isinteractive`).\n",
              "\n",
              "See Also\n",
              "--------\n",
              "ion : Enable interactive mode, which shows / updates the figure after\n",
              "      every plotting command, so that calling ``show()`` is not necessary.\n",
              "ioff : Disable interactive mode.\n",
              "savefig : Save the figure to an image file instead of showing it on screen.\n",
              "\n",
              "Notes\n",
              "-----\n",
              "**Saving figures to file and showing a window at the same time**\n",
              "\n",
              "If you want an image file as well as a user interface window, use\n",
              "`.pyplot.savefig` before `.pyplot.show`. At the end of (a blocking)\n",
              "``show()`` the figure is closed and thus unregistered from pyplot. Calling\n",
              "`.pyplot.savefig` afterwards would save a new and thus empty figure. This\n",
              "limitation of command order does not apply if the show is non-blocking or\n",
              "if you keep a reference to the figure and use `.Figure.savefig`.\n",
              "\n",
              "**Auto-show in jupyter notebooks**\n",
              "\n",
              "The jupyter backends (activated via ``%matplotlib inline``,\n",
              "``%matplotlib notebook``, or ``%matplotlib widget``), call ``show()`` at\n",
              "the end of every cell by default. Thus, you usually don&#x27;t have to call it\n",
              "explicitly there.</pre>\n",
              "      <script>\n",
              "      if (google.colab.kernel.accessAllowed && google.colab.files && google.colab.files.view) {\n",
              "        for (const element of document.querySelectorAll('.filepath')) {\n",
              "          element.style.display = 'block'\n",
              "          element.onclick = (event) => {\n",
              "            event.preventDefault();\n",
              "            event.stopPropagation();\n",
              "            google.colab.files.view(element.textContent, 401);\n",
              "          };\n",
              "        }\n",
              "      }\n",
              "      for (const element of document.querySelectorAll('.function-repr-contents')) {\n",
              "        element.onclick = (event) => {\n",
              "          event.preventDefault();\n",
              "          event.stopPropagation();\n",
              "          element.classList.toggle('function-repr-contents-collapsed');\n",
              "        };\n",
              "      }\n",
              "      </script>\n",
              "      </div>"
            ]
          },
          "metadata": {},
          "execution_count": 103
        },
        {
          "output_type": "display_data",
          "data": {
            "text/plain": [
              "<Figure size 640x480 with 2 Axes>"
            ],
            "image/png": "[encoded data removed]"
          },
          "metadata": {}
        }
      ],
      "source": [
        "plt.figure()\n",
        "\n",
        "ax = plt.subplot()\n",
        "\n",
        "ax.set_title('Confusion Matrix')\n",
        "#pred = model.predict_classes(X_test)\n",
        "pred_probs = pneu_model.predict(X_test)\n",
        "pred = np.argmax(pred_probs, axis=1)\n",
        "\n",
        "Y_TEST = np.argmax(Y_test, axis =1)\n",
        "cm = metrics.confusion_matrix(Y_TEST,pred)\n",
        "classes=['normal', 'bronchiolitis']\n",
        "sns.heatmap(cm, annot=True,xticklabels=classes, yticklabels=classes,cmap='Blues')\n",
        "\n",
        "plt.xlabel('Predicted')\n",
        "plt.ylabel('Actual')\n",
        "plt.show"
      ]
    },
    {
      "cell_type": "code",
      "source": [
        "print(classification_report(Y_TEST, pred))\n",
        "print('normal = 0 , bronchiolitis = 1')"
      ],
      "metadata": {
        "colab": {
          "base_uri": "https://localhost:8080/"
        },
        "id": "W2_lVskd9Bes",
        "outputId": "30168811-5fac-45c8-cff1-73482eb73267"
      },
      "execution_count": 104,
      "outputs": [
        {
          "output_type": "stream",
          "name": "stdout",
          "text": [
            "              precision    recall  f1-score   support\n",
            "\n",
            "           0       0.72      0.63      0.67       100\n",
            "           1       0.67      0.75      0.70        99\n",
            "\n",
            "    accuracy                           0.69       199\n",
            "   macro avg       0.69      0.69      0.69       199\n",
            "weighted avg       0.69      0.69      0.69       199\n",
            "\n",
            "normal = 0 , bronchiolitis = 1\n"
          ]
        }
      ]
    },
    {
      "cell_type": "code",
      "source": [],
      "metadata": {
        "id": "B0jLIg8n9LsO"
      },
      "execution_count": 104,
      "outputs": []
    }
  ],
  "metadata": {
    "accelerator": "GPU",
    "colab": {
      "gpuType": "T4",
      "machine_shape": "hm",
      "provenance": [],
      "mount_file_id": "1cYAZo_QmQWUwsClHJXVd0pkfWjN-MCrq",
      "authorship_tag": "ABX9TyPbqyDYus7RUhaKUlrNCceS",
      "include_colab_link": true
    },
    "kernelspec": {
      "display_name": "Python 3",
      "name": "python3"
    },
    "language_info": {
      "name": "python"
    }
  },
  "nbformat": 4,
  "nbformat_minor": 0
}